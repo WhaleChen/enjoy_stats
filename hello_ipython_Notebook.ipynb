{
 "cells": [
  {
   "cell_type": "markdown",
   "metadata": {},
   "source": [
    "# 极速免安装体验 ipython notebook\n",
    "\n",
    "> make it simple and take easy!\n",
    "\n",
    "## 简读：\n",
    "- [datasciencetoolbox]( http://datasciencetoolbox.org/) 关于最简说明和下载地址都在里面。if no doubt, go on and enjoy the journey!\n",
    "- 如果你对 \"Open the binary and follow the installations instructions.\"  表示疑惑，go on reading~\n",
    "- 用vagrant使用ipython notebook所需工具及逻辑关系：\n",
    "- 虚拟机 VirtualBox\n",
    "- 基于虚拟机的开发环境工具： Vagrant\n",
    "- 在Vagrant已经配置好的数据科学工具开发环境: datascciencetoolbox \n",
    "- 在datascciencetoolbox 中已经安装了 ipython notebook, 我们可以直接使用 \n",
    "\n",
    "## 初试 ipynb（个人经历，可以跳过）\n",
    "\n",
    "- 记得2015年10月份 GUI的时候，第一次看到[ipython notebook](http://ipython.org/documentation.html),看到视频，第一感觉是cool！世界上竟然有这般神器！！！当时立志当下安装拿下。\n",
    "- [document](http://ipython.org/documentation.html) 的持久战： 进入document就是进入一场持久战的开始。 ipython在大妈指导下还能够理解，ruby、Jupyter、Kernels、Anaconda一堆见都没见过的名词让我实在不知道如何配置。如果说在python 入门班中，最让我沮丧的就是安装各种工具的话（win的环境让我有些无法应对，更重要的是我不知道这些工具到底基于什么），那么这次体验就是最典型的代表。\n",
    "- 最后在美好但有些无奈的情况下，只能够放在心愿册上了。\n",
    "\n",
    "## 接触 Vagrant\n",
    "- 前面说在python 入门班中，最让我沮丧的就是安装各种工具机器配置，问题在于win的环境让我无法立即处理Linux下的各种情况，更重要的是我不知道这些工具到底如何在不同平台下使用，每种平台其实配置都不同，再面对一堆不熟悉的名词还真的让人容易退缩。后来我一直在寻找，是否有一种工具可以不基于我的操作系统？\n",
    "- 发现[Vagrant](https://www.vagrantup.com/) ：加入课程，在小赖的推荐下，发现这篇非常好的文章， [使用Vagrant在Windows上轻松搭建Linux开发环境 ](http://ahnniu.github.io/2014/09/30/vagrant/)。 在这篇文章的指导下，我发现 Vagrant就是我所需要寻找的东西。下面是我对于一些概念的简化理解：\n",
    "- 操作系统：强调操作系统并不一定需要桌面，其实没有桌面更高效！\n",
    "- 虚拟机: 虚拟机是安装另一个操作系统的一个方便的方式，我的理解是如同在机器上构建一个子机器，这样就可以独立操作并安装其他操作系统。\n",
    "- 开发环境：开发环境是一系列配置的设置，在我们安装了一个操作系统之后，需要安装和配置一系列文件，如shell的.bashrc 等等，只是我们安装的东西只能在我们自己机子运行的时候使用。\n",
    "- SSH： Secure Shell 。远程登录的方式（协议），远程登录可以使得我们进入其他的电脑系统，当然也可以使用他们的开发环境。\n",
    "- box：base images 基础镜像。Vagrant的巧妙构思就在于设立多个配置好开发环境的操作环境，被Vagrant称为box。使用 远程登录的方式来登录这些其实在本地的box。这样就可以产生多个操作环境。由于box是下载到本地的。因此，也不用担心网络的问题。\n",
    "\n",
    "## Vagrant在Windows上轻松搭建Linux开发环境\n",
    "- 显化网址：http://ahnniu.github.io/2014/09/30/vagrant/\n",
    "- 阅读中的一些点：\n",
    "- cmder: 非常好的一款代替 cmd环境的软件，安装起来不费力，更重要的是体验特别好。SSH登录也需要用到。\n",
    "- 不建议安装提示的 ubuntu 版本，其实不需要这样下载 box的，参考 文档 https://docs.vagrantup.com/v2/getting-started/index.html 我们直接可以 用:\n",
    "```\n",
    "vagrant init hashicorp/precise32\n",
    "```\n",
    "\n",
    "- 安装，这会自动从网上下载 的。\n",
    "- Vagrantfile： 这个文件是配置文件，一开始这个文件让我疑惑了很久，也不敢改，后来看文献发现，一些基本配置需要修改。\n",
    "- 总结：可以用这篇文章先建立一个ubuntu 基本操作系统。如果不需要，则在 vagrant下载完成之后。略过文章的后半段。\n",
    "\n",
    "## Vagrant 安装 ipython notebook\n",
    "- 显化网址： http://datasciencetoolbox.org/\n",
    "- 使用 ：\n",
    "```\n",
    "vagrant init data-science-toolbox/dst\n",
    "```\n",
    "\n",
    "-  阅读中的一些点：\n",
    "- ```dst setup base``` 用来 create a password-protected profile.\n",
    "- 更改Vagrantfile: ```config.vm.network \"forwarded_port\", guest: 8888, host: 8888``` 我用 sublime Text 打开，其他的也可以。这里就如同bottle本地服务器的功能。模拟一个服务器，可以支持本地网页浏览。\n",
    "- 启动ipython notebook ```sudo ipython notebook --profile=dst``` 这一步最让人激动！\n",
    "- 使用```https;//localhost:8888``` 访问\n",
    "\n",
    "## Github 显示 ipynb效果\n",
    "- 直接上传 到github 是可以显示的，不过手机端不支持，同时作图不支持，同时速度也比较慢。\n",
    "- 小赖云：\"可以将ipynb的网址输进  nbviewer.ipython.org，渲染出来的结果显示更快，也支持手机端。\"\n",
    "- 思考，实践：发现确实！惊叹！实际上，我们也可以直接在 ```http://nbviewer.ipython.org/github/``` + 后加上github链接中(```https://github.com/```)后面的链接。这样出来如下结果。\n",
    "\n",
    "## 最后看看结果：\n"
   ]
  },
  {
   "cell_type": "code",
   "execution_count": 3,
   "metadata": {
    "collapsed": false
   },
   "outputs": [
    {
     "name": "stdout",
     "output_type": "stream",
     "text": [
      "hello ipython notebook!\n"
     ]
    }
   ],
   "source": [
    "print 'hello ipython notebook!'"
   ]
  },
  {
   "cell_type": "code",
   "execution_count": 2,
   "metadata": {
    "collapsed": false
   },
   "outputs": [
    {
     "data": {
      "text/latex": [
       "$\\sqrt{x^2+y^2}$"
      ],
      "text/plain": [
       "<IPython.core.display.Latex at 0x7f8968340910>"
      ]
     },
     "execution_count": 2,
     "metadata": {},
     "output_type": "execute_result"
    }
   ],
   "source": [
    "from IPython.display import Latex\n",
    "Latex(r\"$\\sqrt{x^2+y^2}$\")"
   ]
  },
  {
   "cell_type": "code",
   "execution_count": 4,
   "metadata": {
    "collapsed": false
   },
   "outputs": [
    {
     "data": {
      "text/plain": [
       "<matplotlib.text.Text at 0x7f8968311ed0>"
      ]
     },
     "execution_count": 4,
     "metadata": {},
     "output_type": "execute_result"
    },
    {
     "data": {
      "image/png": "[encoded data removed]",
      "text/plain": [
       "<matplotlib.figure.Figure at 0x7f89682ddc90>"
      ]
     },
     "metadata": {},
     "output_type": "display_data"
    }
   ],
   "source": [
    "import matplotlib.pyplot as plt\n",
    "import numpy as np\n",
    "import matplotlib.mlab as mlab\n",
    "\n",
    "\n",
    "mean = [10,12,16,22,25]\n",
    "variance = [3,6,8,10,12]\n",
    "\n",
    "x = np.linspace(0,40,1000)\n",
    "\n",
    "for i in range(4):\n",
    "    sigma = np.sqrt(variance[i])\n",
    "    y = mlab.normpdf(x,mean[i],sigma)\n",
    "    plt.plot(x,y, label=r'$v_{}$'.format(i+1))\n",
    "\n",
    "plt.xlabel(\"X\")\n",
    "plt.ylabel(\"P(X)\")      "
   ]
  },
  {
   "cell_type": "markdown",
   "metadata": {},
   "source": [
    "## 操作系统cmd命令"
   ]
  },
  {
   "cell_type": "code",
   "execution_count": 4,
   "metadata": {
    "collapsed": false
   },
   "outputs": [
    {
     "name": "stdout",
     "output_type": "stream",
     "text": [
      "/home/vagrant\r\n"
     ]
    }
   ],
   "source": [
    "!pwd"
   ]
  },
  {
   "cell_type": "markdown",
   "metadata": {},
   "source": [
    "## Magic 函数\n",
    "- To provide an orthogonal namespace for controlling IPython itself and exposing other system-oriented functionality.\n",
    "- To expose a calling mode that requires minimal verbosity and typing while working interactively. Thus the inspiration taken from the classic Unix shell style for commands."
   ]
  },
  {
   "cell_type": "code",
   "execution_count": 13,
   "metadata": {
    "collapsed": false
   },
   "outputs": [],
   "source": [
    "%magic"
   ]
  },
  {
   "cell_type": "code",
   "execution_count": 5,
   "metadata": {
    "collapsed": false
   },
   "outputs": [
    {
     "name": "stdout",
     "output_type": "stream",
     "text": [
      "My shell is: /bin/bash\n",
      "User: root\n"
     ]
    }
   ],
   "source": [
    "%%bash\n",
    "echo \"My shell is:\" $SHELL\n",
    "echo \"User:\" $USER"
   ]
  },
  {
   "cell_type": "code",
   "execution_count": 6,
   "metadata": {
    "collapsed": false
   },
   "outputs": [
    {
     "name": "stdout",
     "output_type": "stream",
     "text": [
      "Writing test.txt\n"
     ]
    }
   ],
   "source": [
    "%%file test.txt\n",
    "This is a test file!\n",
    "It can contain anything I want...\n",
    "\n",
    "more..."
   ]
  },
  {
   "cell_type": "code",
   "execution_count": 7,
   "metadata": {
    "collapsed": false
   },
   "outputs": [
    {
     "name": "stdout",
     "output_type": "stream",
     "text": [
      "notebooks  repos  test.txt\r\n"
     ]
    }
   ],
   "source": [
    "!ls\n"
   ]
  },
  {
   "cell_type": "code",
   "execution_count": 8,
   "metadata": {
    "collapsed": false
   },
   "outputs": [
    {
     "name": "stdout",
     "output_type": "stream",
     "text": [
      "This is a test file!\r\n",
      "It can contain anything I want...\r\n",
      "\r\n",
      "more..."
     ]
    }
   ],
   "source": [
    "!cat test.txt"
   ]
  },
  {
   "cell_type": "code",
   "execution_count": 15,
   "metadata": {
    "collapsed": false
   },
   "outputs": [
    {
     "data": {
      "application/json": {
       "cell": {
        "!": "OSMagics",
        "HTML": "Other",
        "SVG": "Other",
        "bash": "Other",
        "capture": "ExecutionMagics",
        "debug": "ExecutionMagics",
        "file": "Other",
        "html": "DisplayMagics",
        "javascript": "DisplayMagics",
        "latex": "DisplayMagics",
        "perl": "Other",
        "prun": "ExecutionMagics",
        "pypy": "Other",
        "python": "Other",
        "python2": "Other",
        "python3": "Other",
        "ruby": "Other",
        "script": "ScriptMagics",
        "sh": "Other",
        "svg": "DisplayMagics",
        "sx": "OSMagics",
        "system": "OSMagics",
        "time": "ExecutionMagics",
        "timeit": "ExecutionMagics",
        "writefile": "OSMagics"
       },
       "line": {
        "alias": "OSMagics",
        "alias_magic": "BasicMagics",
        "autocall": "AutoMagics",
        "automagic": "AutoMagics",
        "autosave": "KernelMagics",
        "bookmark": "OSMagics",
        "cat": "Other",
        "cd": "OSMagics",
        "clear": "KernelMagics",
        "colors": "BasicMagics",
        "config": "ConfigMagics",
        "connect_info": "KernelMagics",
        "cp": "Other",
        "debug": "ExecutionMagics",
        "dhist": "OSMagics",
        "dirs": "OSMagics",
        "doctest_mode": "KernelMagics",
        "ed": "Other",
        "edit": "KernelMagics",
        "env": "OSMagics",
        "gui": "BasicMagics",
        "hist": "Other",
        "history": "HistoryMagics",
        "install_default_config": "DeprecatedMagics",
        "install_ext": "ExtensionMagics",
        "install_profiles": "DeprecatedMagics",
        "killbgscripts": "ScriptMagics",
        "ldir": "Other",
        "less": "KernelMagics",
        "lf": "Other",
        "lk": "Other",
        "ll": "Other",
        "load": "CodeMagics",
        "load_ext": "ExtensionMagics",
        "loadpy": "CodeMagics",
        "logoff": "LoggingMagics",
        "logon": "LoggingMagics",
        "logstart": "LoggingMagics",
        "logstate": "LoggingMagics",
        "logstop": "LoggingMagics",
        "ls": "Other",
        "lsmagic": "BasicMagics",
        "lx": "Other",
        "macro": "ExecutionMagics",
        "magic": "BasicMagics",
        "man": "KernelMagics",
        "matplotlib": "PylabMagics",
        "mkdir": "Other",
        "more": "KernelMagics",
        "mv": "Other",
        "notebook": "BasicMagics",
        "page": "BasicMagics",
        "pastebin": "CodeMagics",
        "pdb": "ExecutionMagics",
        "pdef": "NamespaceMagics",
        "pdoc": "NamespaceMagics",
        "pfile": "NamespaceMagics",
        "pinfo": "NamespaceMagics",
        "pinfo2": "NamespaceMagics",
        "popd": "OSMagics",
        "pprint": "BasicMagics",
        "precision": "BasicMagics",
        "profile": "BasicMagics",
        "prun": "ExecutionMagics",
        "psearch": "NamespaceMagics",
        "psource": "NamespaceMagics",
        "pushd": "OSMagics",
        "pwd": "OSMagics",
        "pycat": "OSMagics",
        "pylab": "PylabMagics",
        "qtconsole": "KernelMagics",
        "quickref": "BasicMagics",
        "recall": "HistoryMagics",
        "rehashx": "OSMagics",
        "reload_ext": "ExtensionMagics",
        "rep": "Other",
        "rerun": "HistoryMagics",
        "reset": "NamespaceMagics",
        "reset_selective": "NamespaceMagics",
        "rm": "Other",
        "rmdir": "Other",
        "run": "ExecutionMagics",
        "save": "CodeMagics",
        "sc": "OSMagics",
        "store": "StoreMagics",
        "sx": "OSMagics",
        "system": "OSMagics",
        "tb": "ExecutionMagics",
        "time": "ExecutionMagics",
        "timeit": "ExecutionMagics",
        "unalias": "OSMagics",
        "unload_ext": "ExtensionMagics",
        "who": "NamespaceMagics",
        "who_ls": "NamespaceMagics",
        "whos": "NamespaceMagics",
        "xdel": "NamespaceMagics",
        "xmode": "BasicMagics"
       }
      },
      "text/plain": [
       "Available line magics:\n",
       "%alias  %alias_magic  %autocall  %automagic  %autosave  %bookmark  %cat  %cd  %clear  %colors  %config  %connect_info  %cp  %debug  %dhist  %dirs  %doctest_mode  %ed  %edit  %env  %gui  %hist  %history  %install_default_config  %install_ext  %install_profiles  %killbgscripts  %ldir  %less  %lf  %lk  %ll  %load  %load_ext  %loadpy  %logoff  %logon  %logstart  %logstate  %logstop  %ls  %lsmagic  %lx  %macro  %magic  %man  %matplotlib  %mkdir  %more  %mv  %notebook  %page  %pastebin  %pdb  %pdef  %pdoc  %pfile  %pinfo  %pinfo2  %popd  %pprint  %precision  %profile  %prun  %psearch  %psource  %pushd  %pwd  %pycat  %pylab  %qtconsole  %quickref  %recall  %rehashx  %reload_ext  %rep  %rerun  %reset  %reset_selective  %rm  %rmdir  %run  %save  %sc  %store  %sx  %system  %tb  %time  %timeit  %unalias  %unload_ext  %who  %who_ls  %whos  %xdel  %xmode\n",
       "\n",
       "Available cell magics:\n",
       "%%!  %%HTML  %%SVG  %%bash  %%capture  %%debug  %%file  %%html  %%javascript  %%latex  %%perl  %%prun  %%pypy  %%python  %%python2  %%python3  %%ruby  %%script  %%sh  %%svg  %%sx  %%system  %%time  %%timeit  %%writefile\n",
       "\n",
       "Automagic is ON, % prefix IS NOT needed for line magics."
      ]
     },
     "execution_count": 15,
     "metadata": {},
     "output_type": "execute_result"
    }
   ],
   "source": [
    "%lsmagic"
   ]
  },
  {
   "cell_type": "markdown",
   "metadata": {},
   "source": [
    "## 运行通常的Python 代码：执行和错误\n",
    "- 可以直接从shell中粘贴"
   ]
  },
  {
   "cell_type": "code",
   "execution_count": 17,
   "metadata": {
    "collapsed": false
   },
   "outputs": [
    {
     "name": "stdout",
     "output_type": "stream",
     "text": [
      "1\n",
      "1\n",
      "2\n",
      "3\n",
      "5\n",
      "8\n"
     ]
    }
   ],
   "source": [
    ">>> # Fibonacci series:\n",
    "... # the sum of two elements defines the next\n",
    "... a, b = 0, 1\n",
    ">>> while b < 10:\n",
    "...     print(b)\n",
    "...     a, b = b, a+b"
   ]
  },
  {
   "cell_type": "code",
   "execution_count": 19,
   "metadata": {
    "collapsed": false
   },
   "outputs": [
    {
     "name": "stdout",
     "output_type": "stream",
     "text": [
      "0\n",
      "1\n",
      "2\n",
      "3\n",
      "4\n",
      "---the end---\n"
     ]
    }
   ],
   "source": [
    "In [1]: for i in range(5):\n",
    "   ...:     print(i)\n",
    "   ...: print \"---the end---\""
   ]
  },
  {
   "cell_type": "markdown",
   "metadata": {},
   "source": [
    "## 在notebook中绘图\n",
    "- 这里需要将numpy 和matplotlib 导入，一般使用 np 和plt 来代表。同时可以加入其他所需要的模块"
   ]
  },
  {
   "cell_type": "code",
   "execution_count": 21,
   "metadata": {
    "collapsed": false
   },
   "outputs": [],
   "source": [
    "%matplotlib inline"
   ]
  },
  {
   "cell_type": "code",
   "execution_count": 22,
   "metadata": {
    "collapsed": false
   },
   "outputs": [],
   "source": [
    "import numpy as np\n",
    "import matplotlib.pyplot as plt\n",
    "from matplotlib.pyplot import gcf"
   ]
  },
  {
   "cell_type": "code",
   "execution_count": 23,
   "metadata": {
    "collapsed": false
   },
   "outputs": [
    {
     "data": {
      "image/png": "[encoded data removed]",
      "text/plain": [
       "<matplotlib.figure.Figure at 0x7fec59333350>"
      ]
     },
     "metadata": {},
     "output_type": "display_data"
    }
   ],
   "source": [
    "x = np.linspace(0, 2*np.pi, 300)\n",
    "y = np.sin(x**2)\n",
    "plt.plot(x, y)\n",
    "plt.title(\"A little chirp\")\n",
    "f = gcf()  # let's keep the figure object around for later..."
   ]
  },
  {
   "cell_type": "markdown",
   "metadata": {},
   "source": [
    "## 用Notebooks工作\n",
    "### 文件布局\n",
    "- Ipython Notebooks 就是扩展名.ipynb的文件\n",
    "- Notebook的服务器基于Notebook directory这个特定的文件夹\n",
    "- 如果你cd 到了Notebook directory 同时输入: ```ipython notebook``` 你会看到notebooks 都会出现\n",
    "- 如果你用的是 vagrant 的那么当然 你 需要用 ```sudo ipython notebook --profile=<filename>``` 来执行\n",
    "### Notebook 文件\n",
    "- Ipython Notebooks 就是扩展名.ipynb的文件\n",
    "- 包含 json 数据\n"
   ]
  },
  {
   "cell_type": "markdown",
   "metadata": {},
   "source": []
  }
 ],
 "metadata": {
  "kernelspec": {
   "display_name": "Python 2",
   "language": "python",
   "name": "python2"
  },
  "language_info": {
   "codemirror_mode": {
    "name": "ipython",
    "version": 2
   },
   "file_extension": ".py",
   "mimetype": "text/x-python",
   "name": "python",
   "nbconvert_exporter": "python",
   "pygments_lexer": "ipython2",
   "version": "2.7.9"
  }
 },
 "nbformat": 4,
 "nbformat_minor": 0
}
