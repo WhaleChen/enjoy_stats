{
 "metadata": {
  "name": "",
  "signature": "sha256:bcdba4040dc45ee3a29898f8e729c9cc60188b928eaf4df54632708fe9315cc1"
 },
 "nbformat": 3,
 "nbformat_minor": 0,
 "worksheets": [
  {
   "cells": [
    {
     "cell_type": "markdown",
     "metadata": {},
     "source": [
      "# \u6781\u901f\u5b89\u88c5\u4f53\u9a8c ipython notebook\n",
      "\n",
      "> make it simple and take easy!\n",
      "\n",
      "## \u7b80\u8bfb\uff1a\n",
      "- [datasciencetoolbox]( http://datasciencetoolbox.org/) \u5173\u4e8e\u6700\u7b80\u8bf4\u660e\u548c\u4e0b\u8f7d\u5730\u5740\u90fd\u5728\u91cc\u9762\u3002if no doubt, go on and enjoy the journey!\n",
      "- \u5982\u679c\u4f60\u5bf9 \"Open the binary and follow the installations instructions.\"  \u8868\u793a\u7591\u60d1\uff0cgo on reading~\n",
      "- \u7528vagrant\u4f7f\u7528ipython notebook\u6240\u9700\u5de5\u5177\u53ca\u903b\u8f91\u5173\u7cfb\uff1a\n",
      "- \u865a\u62df\u673a VirtualBox\n",
      "- \u57fa\u4e8e\u865a\u62df\u673a\u7684\u5f00\u53d1\u73af\u5883\u5de5\u5177\uff1a Vagrant\n",
      "- \u5728Vagrant\u5df2\u7ecf\u914d\u7f6e\u597d\u7684\u6570\u636e\u79d1\u5b66\u5de5\u5177\u5f00\u53d1\u73af\u5883: datascciencetoolbox \n",
      "- \u5728datascciencetoolbox \u4e2d\u5df2\u7ecf\u5b89\u88c5\u4e86 ipython notebook, \u6211\u4eec\u53ef\u4ee5\u76f4\u63a5\u4f7f\u7528 \n",
      "\n",
      "## \u521d\u8bd5 ipynb\uff08\u4e2a\u4eba\u7ecf\u5386\uff0c\u53ef\u4ee5\u8df3\u8fc7\uff09\n",
      "\n",
      "- \u8bb0\u5f972015\u5e7410\u6708\u4efd GUI\u7684\u65f6\u5019\uff0c\u7b2c\u4e00\u6b21\u770b\u5230[ipython notebook](http://ipython.org/documentation.html),\u770b\u5230\u89c6\u9891\uff0c\u7b2c\u4e00\u611f\u89c9\u662fcool\uff01\u4e16\u754c\u4e0a\u7adf\u7136\u6709\u8fd9\u822c\u795e\u5668\uff01\uff01\uff01\u5f53\u65f6\u7acb\u5fd7\u5f53\u4e0b\u5b89\u88c5\u62ff\u4e0b\u3002\n",
      "- [document](http://ipython.org/documentation.html) \u7684\u6301\u4e45\u6218\uff1a \u8fdb\u5165document\u5c31\u662f\u8fdb\u5165\u4e00\u573a\u6301\u4e45\u6218\u7684\u5f00\u59cb\u3002 ipython\u5728\u5927\u5988\u6307\u5bfc\u4e0b\u8fd8\u80fd\u591f\u7406\u89e3\uff0cruby\u3001Jupyter\u3001Kernels\u3001Anaconda\u4e00\u5806\u89c1\u90fd\u6ca1\u89c1\u8fc7\u7684\u540d\u8bcd\u8ba9\u6211\u5b9e\u5728\u4e0d\u77e5\u9053\u5982\u4f55\u914d\u7f6e\u3002\u5982\u679c\u8bf4\u5728python \u5165\u95e8\u73ed\u4e2d\uff0c\u6700\u8ba9\u6211\u6cae\u4e27\u7684\u5c31\u662f\u5b89\u88c5\u5404\u79cd\u5de5\u5177\u7684\u8bdd\uff08win\u7684\u73af\u5883\u8ba9\u6211\u6709\u4e9b\u65e0\u6cd5\u5e94\u5bf9\uff0c\u66f4\u91cd\u8981\u7684\u662f\u6211\u4e0d\u77e5\u9053\u8fd9\u4e9b\u5de5\u5177\u5230\u5e95\u57fa\u4e8e\u4ec0\u4e48\uff09\uff0c\u90a3\u4e48\u8fd9\u6b21\u4f53\u9a8c\u5c31\u662f\u6700\u5178\u578b\u7684\u4ee3\u8868\u3002\n",
      "- \u6700\u540e\u5728\u7f8e\u597d\u4f46\u6709\u4e9b\u65e0\u5948\u7684\u60c5\u51b5\u4e0b\uff0c\u53ea\u80fd\u591f\u653e\u5728\u5fc3\u613f\u518c\u4e0a\u4e86\u3002\n",
      "\n",
      "## \u63a5\u89e6 Vagrant\n",
      "- \u524d\u9762\u8bf4\u5728python \u5165\u95e8\u73ed\u4e2d\uff0c\u6700\u8ba9\u6211\u6cae\u4e27\u7684\u5c31\u662f\u5b89\u88c5\u5404\u79cd\u5de5\u5177\u673a\u5668\u914d\u7f6e\uff0c\u95ee\u9898\u5728\u4e8ewin\u7684\u73af\u5883\u8ba9\u6211\u65e0\u6cd5\u7acb\u5373\u5904\u7406Linux\u4e0b\u7684\u5404\u79cd\u60c5\u51b5\uff0c\u66f4\u91cd\u8981\u7684\u662f\u6211\u4e0d\u77e5\u9053\u8fd9\u4e9b\u5de5\u5177\u5230\u5e95\u5982\u4f55\u5728\u4e0d\u540c\u5e73\u53f0\u4e0b\u4f7f\u7528\uff0c\u6bcf\u79cd\u5e73\u53f0\u5176\u5b9e\u914d\u7f6e\u90fd\u4e0d\u540c\uff0c\u518d\u9762\u5bf9\u4e00\u5806\u4e0d\u719f\u6089\u7684\u540d\u8bcd\u8fd8\u771f\u7684\u8ba9\u4eba\u5bb9\u6613\u9000\u7f29\u3002\u540e\u6765\u6211\u4e00\u76f4\u5728\u5bfb\u627e\uff0c\u662f\u5426\u6709\u4e00\u79cd\u5de5\u5177\u53ef\u4ee5\u4e0d\u57fa\u4e8e\u6211\u7684\u64cd\u4f5c\u7cfb\u7edf\uff1f\n",
      "- \u53d1\u73b0[Vagrant](https://www.vagrantup.com/) \uff1a\u52a0\u5165\u8bfe\u7a0b\uff0c\u5728\u5c0f\u8d56\u7684\u63a8\u8350\u4e0b\uff0c\u53d1\u73b0\u8fd9\u7bc7\u975e\u5e38\u597d\u7684\u6587\u7ae0\uff0c [\u4f7f\u7528Vagrant\u5728Windows\u4e0a\u8f7b\u677e\u642d\u5efaLinux\u5f00\u53d1\u73af\u5883 ](http://ahnniu.github.io/2014/09/30/vagrant/)\u3002 \u5728\u8fd9\u7bc7\u6587\u7ae0\u7684\u6307\u5bfc\u4e0b\uff0c\u6211\u53d1\u73b0 Vagrant\u5c31\u662f\u6211\u6240\u9700\u8981\u5bfb\u627e\u7684\u4e1c\u897f\u3002\u4e0b\u9762\u662f\u6211\u5bf9\u4e8e\u4e00\u4e9b\u6982\u5ff5\u7684\u7b80\u5316\u7406\u89e3\uff1a\n",
      "- \u64cd\u4f5c\u7cfb\u7edf\uff1a\u5f3a\u8c03\u64cd\u4f5c\u7cfb\u7edf\u5e76\u4e0d\u4e00\u5b9a\u9700\u8981\u684c\u9762\uff0c\u5176\u5b9e\u6ca1\u6709\u684c\u9762\u66f4\u9ad8\u6548\uff01\n",
      "- \u865a\u62df\u673a: \u865a\u62df\u673a\u662f\u5b89\u88c5\u53e6\u4e00\u4e2a\u64cd\u4f5c\u7cfb\u7edf\u7684\u4e00\u4e2a\u65b9\u4fbf\u7684\u65b9\u5f0f\uff0c\u6211\u7684\u7406\u89e3\u662f\u5982\u540c\u5728\u673a\u5668\u4e0a\u6784\u5efa\u4e00\u4e2a\u5b50\u673a\u5668\uff0c\u8fd9\u6837\u5c31\u53ef\u4ee5\u72ec\u7acb\u64cd\u4f5c\u5e76\u5b89\u88c5\u5176\u4ed6\u64cd\u4f5c\u7cfb\u7edf\u3002\n",
      "- \u5f00\u53d1\u73af\u5883\uff1a\u5f00\u53d1\u73af\u5883\u662f\u4e00\u7cfb\u5217\u914d\u7f6e\u7684\u8bbe\u7f6e\uff0c\u5728\u6211\u4eec\u5b89\u88c5\u4e86\u4e00\u4e2a\u64cd\u4f5c\u7cfb\u7edf\u4e4b\u540e\uff0c\u9700\u8981\u5b89\u88c5\u548c\u914d\u7f6e\u4e00\u7cfb\u5217\u6587\u4ef6\uff0c\u5982shell\u7684.bashrc \u7b49\u7b49\uff0c\u53ea\u662f\u6211\u4eec\u5b89\u88c5\u7684\u4e1c\u897f\u53ea\u80fd\u5728\u6211\u4eec\u81ea\u5df1\u673a\u5b50\u8fd0\u884c\u7684\u65f6\u5019\u4f7f\u7528\u3002\n",
      "- SSH\uff1a Secure Shell \u3002\u8fdc\u7a0b\u767b\u5f55\u7684\u65b9\u5f0f\uff08\u534f\u8bae\uff09\uff0c\u8fdc\u7a0b\u767b\u5f55\u53ef\u4ee5\u4f7f\u5f97\u6211\u4eec\u8fdb\u5165\u5176\u4ed6\u7684\u7535\u8111\u7cfb\u7edf\uff0c\u5f53\u7136\u4e5f\u53ef\u4ee5\u4f7f\u7528\u4ed6\u4eec\u7684\u5f00\u53d1\u73af\u5883\u3002\n",
      "- box\uff1abase images \u57fa\u7840\u955c\u50cf\u3002Vagrant\u7684\u5de7\u5999\u6784\u601d\u5c31\u5728\u4e8e\u8bbe\u7acb\u591a\u4e2a\u914d\u7f6e\u597d\u5f00\u53d1\u73af\u5883\u7684\u64cd\u4f5c\u73af\u5883\uff0c\u88abVagrant\u79f0\u4e3abox\u3002\u4f7f\u7528 \u8fdc\u7a0b\u767b\u5f55\u7684\u65b9\u5f0f\u6765\u767b\u5f55\u8fd9\u4e9b\u5176\u5b9e\u5728\u672c\u5730\u7684box\u3002\u8fd9\u6837\u5c31\u53ef\u4ee5\u4ea7\u751f\u591a\u4e2a\u64cd\u4f5c\u73af\u5883\u3002\u7531\u4e8ebox\u662f\u4e0b\u8f7d\u5230\u672c\u5730\u7684\u3002\u56e0\u6b64\uff0c\u4e5f\u4e0d\u7528\u62c5\u5fc3\u7f51\u7edc\u7684\u95ee\u9898\u3002\n",
      "\n",
      "## Vagrant\u5728Windows\u4e0a\u8f7b\u677e\u642d\u5efaLinux\u5f00\u53d1\u73af\u5883\n",
      "- \u663e\u5316\u7f51\u5740\uff1ahttp://ahnniu.github.io/2014/09/30/vagrant/\n",
      "- \u9605\u8bfb\u4e2d\u7684\u4e00\u4e9b\u70b9\uff1a\n",
      "- cmder: \u975e\u5e38\u597d\u7684\u4e00\u6b3e\u4ee3\u66ff cmd\u73af\u5883\u7684\u8f6f\u4ef6\uff0c\u5b89\u88c5\u8d77\u6765\u4e0d\u8d39\u529b\uff0c\u66f4\u91cd\u8981\u7684\u662f\u4f53\u9a8c\u7279\u522b\u597d\u3002SSH\u767b\u5f55\u4e5f\u9700\u8981\u7528\u5230\u3002\n",
      "- \u4e0d\u5efa\u8bae\u5b89\u88c5\u63d0\u793a\u7684 ubuntu \u7248\u672c\uff0c\u5176\u5b9e\u4e0d\u9700\u8981\u8fd9\u6837\u4e0b\u8f7d box\u7684\uff0c\u53c2\u8003 \u6587\u6863 https://docs.vagrantup.com/v2/getting-started/index.html \u6211\u4eec\u76f4\u63a5\u53ef\u4ee5 \u7528:\n",
      "```\n",
      "vagrant init hashicorp/precise32\n",
      "```\n",
      "\n",
      "- \u5b89\u88c5\uff0c\u8fd9\u4f1a\u81ea\u52a8\u4ece\u7f51\u4e0a\u4e0b\u8f7d \u7684\u3002\n",
      "- Vagrantfile\uff1a \u8fd9\u4e2a\u6587\u4ef6\u662f\u914d\u7f6e\u6587\u4ef6\uff0c\u4e00\u5f00\u59cb\u8fd9\u4e2a\u6587\u4ef6\u8ba9\u6211\u7591\u60d1\u4e86\u5f88\u4e45\uff0c\u4e5f\u4e0d\u6562\u6539\uff0c\u540e\u6765\u770b\u6587\u732e\u53d1\u73b0\uff0c\u4e00\u4e9b\u57fa\u672c\u914d\u7f6e\u9700\u8981\u4fee\u6539\u3002\n",
      "- \u603b\u7ed3\uff1a\u53ef\u4ee5\u7528\u8fd9\u7bc7\u6587\u7ae0\u5148\u5efa\u7acb\u4e00\u4e2aubuntu \u57fa\u672c\u64cd\u4f5c\u7cfb\u7edf\u3002\u5982\u679c\u4e0d\u9700\u8981\uff0c\u5219\u5728 vagrant\u4e0b\u8f7d\u5b8c\u6210\u4e4b\u540e\u3002\u7565\u8fc7\u6587\u7ae0\u7684\u540e\u534a\u6bb5\u3002\n",
      "\n",
      "## Vagrant \u5b89\u88c5 ipython notebook\n",
      "- \u663e\u5316\u7f51\u5740\uff1a http://datasciencetoolbox.org/\n",
      "- \u4f7f\u7528 \uff1a\n",
      "```\n",
      "vagrant init data-science-toolbox/dst\n",
      "```\n",
      "\n",
      "-  \u9605\u8bfb\u4e2d\u7684\u4e00\u4e9b\u70b9\uff1a\n",
      "- ```dst setup base``` \u7528\u6765 create a password-protected profile.\n",
      "- \u66f4\u6539Vagrantfile: ```config.vm.network \"forwarded_port\", guest: 8888, host: 8888``` \u6211\u7528 sublime Text \u6253\u5f00\uff0c\u5176\u4ed6\u7684\u4e5f\u53ef\u4ee5\u3002\u8fd9\u91cc\u5c31\u5982\u540cbottle\u672c\u5730\u670d\u52a1\u5668\u7684\u529f\u80fd\u3002\u6a21\u62df\u4e00\u4e2a\u670d\u52a1\u5668\uff0c\u53ef\u4ee5\u652f\u6301\u672c\u5730\u7f51\u9875\u6d4f\u89c8\u3002\n",
      "- \u542f\u52a8ipython notebook ```sudo ipython notebook --profile=dst``` \u8fd9\u4e00\u6b65\u6700\u8ba9\u4eba\u6fc0\u52a8\uff01\n",
      "- \u4f7f\u7528```https;//localhost:8888``` \u8bbf\u95ee\n",
      "\n",
      "## Github \u663e\u793a ipynb\u6548\u679c\n",
      "- \u76f4\u63a5\u4e0a\u4f20 \u5230github \u662f\u53ef\u4ee5\u663e\u793a\u7684\uff0c\u4e0d\u8fc7\u624b\u673a\u7aef\u4e0d\u652f\u6301\uff0c\u540c\u65f6\u4f5c\u56fe\u4e0d\u652f\u6301\uff0c\u540c\u65f6\u901f\u5ea6\u4e5f\u6bd4\u8f83\u6162\u3002\n",
      "- \u5c0f\u8d56\u4e91\uff1a\"\u53ef\u4ee5\u5c06ipynb\u7684\u7f51\u5740\u8f93\u8fdb  nbviewer.ipython.org\uff0c\u6e32\u67d3\u51fa\u6765\u7684\u7ed3\u679c\u663e\u793a\u66f4\u5feb\uff0c\u4e5f\u652f\u6301\u624b\u673a\u7aef\u3002\"\n",
      "- \u601d\u8003\uff0c\u5b9e\u8df5\uff1a\u53d1\u73b0\u786e\u5b9e\uff01\u60ca\u53f9\uff01\u5b9e\u9645\u4e0a\uff0c\u6211\u4eec\u4e5f\u53ef\u4ee5\u76f4\u63a5\u5728 ```http://nbviewer.ipython.org/github/``` + \u540e\u52a0\u4e0agithub\u94fe\u63a5\u4e2d(```https://github.com/```)\u540e\u9762\u7684\u94fe\u63a5\u3002\u8fd9\u6837\u51fa\u6765\u5982\u4e0b\u7ed3\u679c\u3002\n",
      "\n",
      "## \u6700\u540e\u770b\u770b\u7ed3\u679c\uff1a\n"
     ]
    },
    {
     "cell_type": "code",
     "collapsed": false,
     "input": [
      "print 'hello ipython notebook!'"
     ],
     "language": "python",
     "metadata": {},
     "outputs": [
      {
       "output_type": "stream",
       "stream": "stdout",
       "text": [
        "hello ipython notebook!\n"
       ]
      }
     ],
     "prompt_number": 3
    },
    {
     "cell_type": "code",
     "collapsed": false,
     "input": [
      "from IPython.display import Latex\n",
      "Latex(r\"$\\sqrt{x^2+y^2}$\")"
     ],
     "language": "python",
     "metadata": {},
     "outputs": [
      {
       "latex": [
        "$\\sqrt{x^2+y^2}$"
       ],
       "metadata": {},
       "output_type": "pyout",
       "prompt_number": 2,
       "text": [
        "<IPython.core.display.Latex at 0x7f8968340910>"
       ]
      }
     ],
     "prompt_number": 2
    },
    {
     "cell_type": "code",
     "collapsed": false,
     "input": [
      "import matplotlib.pyplot as plt\n",
      "import numpy as np\n",
      "import matplotlib.mlab as mlab\n",
      "\n",
      "\n",
      "mean = [10,12,16,22,25]\n",
      "variance = [3,6,8,10,12]\n",
      "\n",
      "x = np.linspace(0,40,1000)\n",
      "\n",
      "for i in range(4):\n",
      "    sigma = np.sqrt(variance[i])\n",
      "    y = mlab.normpdf(x,mean[i],sigma)\n",
      "    plt.plot(x,y, label=r'$v_{}$'.format(i+1))\n",
      "\n",
      "plt.xlabel(\"X\")\n",
      "plt.ylabel(\"P(X)\")      "
     ],
     "language": "python",
     "metadata": {},
     "outputs": [
      {
       "metadata": {},
       "output_type": "pyout",
       "prompt_number": 4,
       "text": [
        "<matplotlib.text.Text at 0x7f8968311ed0>"
       ]
      },
      {
       "metadata": {},
       "output_type": "display_data",
       "png": "[encoded data removed]",
       "text": [
        "<matplotlib.figure.Figure at 0x7f89682ddc90>"
       ]
      }
     ],
     "prompt_number": 4
    },
    {
     "cell_type": "markdown",
     "metadata": {},
     "source": [
      "## \u64cd\u4f5c\u7cfb\u7edfcmd\u547d\u4ee4"
     ]
    },
    {
     "cell_type": "code",
     "collapsed": false,
     "input": [
      "!pwd"
     ],
     "language": "python",
     "metadata": {},
     "outputs": [
      {
       "output_type": "stream",
       "stream": "stdout",
       "text": [
        "/home/vagrant\r\n"
       ]
      }
     ],
     "prompt_number": 4
    },
    {
     "cell_type": "markdown",
     "metadata": {},
     "source": [
      "## Magic \u51fd\u6570\n",
      "- To provide an orthogonal namespace for controlling IPython itself and exposing other system-oriented functionality.\n",
      "- To expose a calling mode that requires minimal verbosity and typing while working interactively. Thus the inspiration taken from the classic Unix shell style for commands."
     ]
    },
    {
     "cell_type": "code",
     "collapsed": false,
     "input": [
      "%magic"
     ],
     "language": "python",
     "metadata": {},
     "outputs": [],
     "prompt_number": 13
    },
    {
     "cell_type": "code",
     "collapsed": false,
     "input": [
      "%%bash\n",
      "echo \"My shell is:\" $SHELL\n",
      "echo \"User:\" $USER"
     ],
     "language": "python",
     "metadata": {},
     "outputs": [
      {
       "output_type": "stream",
       "stream": "stdout",
       "text": [
        "My shell is: /bin/bash\n",
        "User: root\n"
       ]
      }
     ],
     "prompt_number": 5
    },
    {
     "cell_type": "code",
     "collapsed": false,
     "input": [
      "%%file test.txt\n",
      "This is a test file!\n",
      "It can contain anything I want...\n",
      "\n",
      "more..."
     ],
     "language": "python",
     "metadata": {},
     "outputs": [
      {
       "output_type": "stream",
       "stream": "stdout",
       "text": [
        "Writing test.txt\n"
       ]
      }
     ],
     "prompt_number": 6
    },
    {
     "cell_type": "code",
     "collapsed": false,
     "input": [
      "!ls\n"
     ],
     "language": "python",
     "metadata": {},
     "outputs": [
      {
       "output_type": "stream",
       "stream": "stdout",
       "text": [
        "notebooks  repos  test.txt\r\n"
       ]
      }
     ],
     "prompt_number": 7
    },
    {
     "cell_type": "code",
     "collapsed": false,
     "input": [
      "!cat test.txt"
     ],
     "language": "python",
     "metadata": {},
     "outputs": [
      {
       "output_type": "stream",
       "stream": "stdout",
       "text": [
        "This is a test file!\r\n",
        "It can contain anything I want...\r\n",
        "\r\n",
        "more..."
       ]
      }
     ],
     "prompt_number": 8
    },
    {
     "cell_type": "code",
     "collapsed": false,
     "input": [
      "%lsmagic"
     ],
     "language": "python",
     "metadata": {},
     "outputs": [
      {
       "json": [
        "{\"cell\": {\"prun\": \"ExecutionMagics\", \"file\": \"Other\", \"!\": \"OSMagics\", \"capture\": \"ExecutionMagics\", \"timeit\": \"ExecutionMagics\", \"script\": \"ScriptMagics\", \"pypy\": \"Other\", \"system\": \"OSMagics\", \"perl\": \"Other\", \"HTML\": \"Other\", \"bash\": \"Other\", \"python\": \"Other\", \"SVG\": \"Other\", \"javascript\": \"DisplayMagics\", \"writefile\": \"OSMagics\", \"ruby\": \"Other\", \"python3\": \"Other\", \"python2\": \"Other\", \"latex\": \"DisplayMagics\", \"sx\": \"OSMagics\", \"svg\": \"DisplayMagics\", \"html\": \"DisplayMagics\", \"sh\": \"Other\", \"time\": \"ExecutionMagics\", \"debug\": \"ExecutionMagics\"}, \"line\": {\"psource\": \"NamespaceMagics\", \"logstart\": \"LoggingMagics\", \"popd\": \"OSMagics\", \"loadpy\": \"CodeMagics\", \"install_ext\": \"ExtensionMagics\", \"colors\": \"BasicMagics\", \"who_ls\": \"NamespaceMagics\", \"lf\": \"Other\", \"install_profiles\": \"DeprecatedMagics\", \"ll\": \"Other\", \"pprint\": \"BasicMagics\", \"lk\": \"Other\", \"ls\": \"Other\", \"save\": \"CodeMagics\", \"tb\": \"ExecutionMagics\", \"lx\": \"Other\", \"pylab\": \"PylabMagics\", \"killbgscripts\": \"ScriptMagics\", \"quickref\": \"BasicMagics\", \"magic\": \"BasicMagics\", \"dhist\": \"OSMagics\", \"edit\": \"KernelMagics\", \"logstop\": \"LoggingMagics\", \"gui\": \"BasicMagics\", \"alias_magic\": \"BasicMagics\", \"debug\": \"ExecutionMagics\", \"page\": \"BasicMagics\", \"logstate\": \"LoggingMagics\", \"ed\": \"Other\", \"pushd\": \"OSMagics\", \"timeit\": \"ExecutionMagics\", \"rehashx\": \"OSMagics\", \"hist\": \"Other\", \"qtconsole\": \"KernelMagics\", \"rm\": \"Other\", \"dirs\": \"OSMagics\", \"run\": \"ExecutionMagics\", \"reset_selective\": \"NamespaceMagics\", \"rep\": \"Other\", \"pinfo2\": \"NamespaceMagics\", \"matplotlib\": \"PylabMagics\", \"unload_ext\": \"ExtensionMagics\", \"doctest_mode\": \"KernelMagics\", \"logoff\": \"LoggingMagics\", \"reload_ext\": \"ExtensionMagics\", \"pdb\": \"ExecutionMagics\", \"load\": \"CodeMagics\", \"lsmagic\": \"BasicMagics\", \"autosave\": \"KernelMagics\", \"cd\": \"OSMagics\", \"pastebin\": \"CodeMagics\", \"prun\": \"ExecutionMagics\", \"cp\": \"Other\", \"autocall\": \"AutoMagics\", \"bookmark\": \"OSMagics\", \"connect_info\": \"KernelMagics\", \"mkdir\": \"Other\", \"system\": \"OSMagics\", \"whos\": \"NamespaceMagics\", \"rmdir\": \"Other\", \"automagic\": \"AutoMagics\", \"store\": \"StoreMagics\", \"more\": \"KernelMagics\", \"pdef\": \"NamespaceMagics\", \"precision\": \"BasicMagics\", \"pinfo\": \"NamespaceMagics\", \"pwd\": \"OSMagics\", \"psearch\": \"NamespaceMagics\", \"reset\": \"NamespaceMagics\", \"recall\": \"HistoryMagics\", \"xdel\": \"NamespaceMagics\", \"xmode\": \"BasicMagics\", \"cat\": \"Other\", \"mv\": \"Other\", \"rerun\": \"HistoryMagics\", \"logon\": \"LoggingMagics\", \"history\": \"HistoryMagics\", \"pycat\": \"OSMagics\", \"unalias\": \"OSMagics\", \"install_default_config\": \"DeprecatedMagics\", \"env\": \"OSMagics\", \"load_ext\": \"ExtensionMagics\", \"config\": \"ConfigMagics\", \"profile\": \"BasicMagics\", \"pfile\": \"NamespaceMagics\", \"less\": \"KernelMagics\", \"who\": \"NamespaceMagics\", \"notebook\": \"BasicMagics\", \"man\": \"KernelMagics\", \"sx\": \"OSMagics\", \"macro\": \"ExecutionMagics\", \"clear\": \"KernelMagics\", \"alias\": \"OSMagics\", \"time\": \"ExecutionMagics\", \"sc\": \"OSMagics\", \"ldir\": \"Other\", \"pdoc\": \"NamespaceMagics\"}}"
       ],
       "metadata": {},
       "output_type": "pyout",
       "prompt_number": 15,
       "text": [
        "Available line magics:\n",
        "%alias  %alias_magic  %autocall  %automagic  %autosave  %bookmark  %cat  %cd  %clear  %colors  %config  %connect_info  %cp  %debug  %dhist  %dirs  %doctest_mode  %ed  %edit  %env  %gui  %hist  %history  %install_default_config  %install_ext  %install_profiles  %killbgscripts  %ldir  %less  %lf  %lk  %ll  %load  %load_ext  %loadpy  %logoff  %logon  %logstart  %logstate  %logstop  %ls  %lsmagic  %lx  %macro  %magic  %man  %matplotlib  %mkdir  %more  %mv  %notebook  %page  %pastebin  %pdb  %pdef  %pdoc  %pfile  %pinfo  %pinfo2  %popd  %pprint  %precision  %profile  %prun  %psearch  %psource  %pushd  %pwd  %pycat  %pylab  %qtconsole  %quickref  %recall  %rehashx  %reload_ext  %rep  %rerun  %reset  %reset_selective  %rm  %rmdir  %run  %save  %sc  %store  %sx  %system  %tb  %time  %timeit  %unalias  %unload_ext  %who  %who_ls  %whos  %xdel  %xmode\n",
        "\n",
        "Available cell magics:\n",
        "%%!  %%HTML  %%SVG  %%bash  %%capture  %%debug  %%file  %%html  %%javascript  %%latex  %%perl  %%prun  %%pypy  %%python  %%python2  %%python3  %%ruby  %%script  %%sh  %%svg  %%sx  %%system  %%time  %%timeit  %%writefile\n",
        "\n",
        "Automagic is ON, % prefix IS NOT needed for line magics."
       ]
      }
     ],
     "prompt_number": 15
    },
    {
     "cell_type": "markdown",
     "metadata": {},
     "source": [
      "## \u8fd0\u884c\u901a\u5e38\u7684Python \u4ee3\u7801\uff1a\u6267\u884c\u548c\u9519\u8bef\n",
      "- \u53ef\u4ee5\u76f4\u63a5\u4eceshell\u4e2d\u7c98\u8d34"
     ]
    },
    {
     "cell_type": "code",
     "collapsed": false,
     "input": [
      ">>> # Fibonacci series:\n",
      "... # the sum of two elements defines the next\n",
      "... a, b = 0, 1\n",
      ">>> while b < 10:\n",
      "...     print(b)\n",
      "...     a, b = b, a+b"
     ],
     "language": "python",
     "metadata": {},
     "outputs": [
      {
       "output_type": "stream",
       "stream": "stdout",
       "text": [
        "1\n",
        "1\n",
        "2\n",
        "3\n",
        "5\n",
        "8\n"
       ]
      }
     ],
     "prompt_number": 17
    },
    {
     "cell_type": "code",
     "collapsed": false,
     "input": [
      "In [1]: for i in range(5):\n",
      "   ...:     print(i)\n",
      "   ...: print \"---the end---\""
     ],
     "language": "python",
     "metadata": {},
     "outputs": [
      {
       "output_type": "stream",
       "stream": "stdout",
       "text": [
        "0\n",
        "1\n",
        "2\n",
        "3\n",
        "4\n",
        "---the end---\n"
       ]
      }
     ],
     "prompt_number": 19
    },
    {
     "cell_type": "markdown",
     "metadata": {},
     "source": [
      "## \u5728notebook\u4e2d\u7ed8\u56fe\n",
      "- \u8fd9\u91cc\u9700\u8981\u5c06numpy \u548cmatplotlib \u5bfc\u5165\uff0c\u4e00\u822c\u4f7f\u7528 np \u548cplt \u6765\u4ee3\u8868\u3002\u540c\u65f6\u53ef\u4ee5\u52a0\u5165\u5176\u4ed6\u6240\u9700\u8981\u7684\u6a21\u5757"
     ]
    },
    {
     "cell_type": "code",
     "collapsed": false,
     "input": [
      "%matplotlib inline"
     ],
     "language": "python",
     "metadata": {},
     "outputs": [],
     "prompt_number": 21
    },
    {
     "cell_type": "code",
     "collapsed": false,
     "input": [
      "import numpy as np\n",
      "import matplotlib.pyplot as plt\n",
      "from matplotlib.pyplot import gcf"
     ],
     "language": "python",
     "metadata": {},
     "outputs": [],
     "prompt_number": 22
    },
    {
     "cell_type": "code",
     "collapsed": false,
     "input": [
      "x = np.linspace(0, 2*np.pi, 300)\n",
      "y = np.sin(x**2)\n",
      "plt.plot(x, y)\n",
      "plt.title(\"A little chirp\")\n",
      "f = gcf()  # let's keep the figure object around for later..."
     ],
     "language": "python",
     "metadata": {},
     "outputs": [
      {
       "metadata": {},
       "output_type": "display_data",
       "png": "[encoded data removed]",
       "text": [
        "<matplotlib.figure.Figure at 0x7fec59333350>"
       ]
      }
     ],
     "prompt_number": 23
    },
    {
     "cell_type": "markdown",
     "metadata": {},
     "source": [
      "## \u7528Notebooks\u5de5\u4f5c\n",
      "### \u6587\u4ef6\u5e03\u5c40\n",
      "- Ipython Notebooks \u5c31\u662f\u6269\u5c55\u540d.ipynb\u7684\u6587\u4ef6\n",
      "- Notebook\u7684\u670d\u52a1\u5668\u57fa\u4e8eNotebook directory\u8fd9\u4e2a\u7279\u5b9a\u7684\u6587\u4ef6\u5939\n",
      "- \u5982\u679c\u4f60cd \u5230\u4e86Notebook directory \u540c\u65f6\u8f93\u5165: ```ipython notebook``` \u4f60\u4f1a\u770b\u5230notebooks \u90fd\u4f1a\u51fa\u73b0\n",
      "- \u5982\u679c\u4f60\u7528\u7684\u662f vagrant \u7684\u90a3\u4e48\u5f53\u7136 \u4f60 \u9700\u8981\u7528 ```sudo ipython notebook --profile=<filename>``` \u6765\u6267\u884c\n",
      "### Notebook \u6587\u4ef6\n",
      "- Ipython Notebooks \u5c31\u662f\u6269\u5c55\u540d.ipynb\u7684\u6587\u4ef6\n",
      "- \u5305\u542b json \u6570\u636e\n"
     ]
    },
    {
     "cell_type": "markdown",
     "metadata": {},
     "source": []
    }
   ],
   "metadata": {}
  }
 ]
}