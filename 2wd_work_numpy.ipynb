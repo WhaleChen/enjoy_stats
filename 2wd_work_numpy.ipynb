{
 "cells": [
  {
   "cell_type": "code",
   "execution_count": 2,
   "metadata": {
    "collapsed": false
   },
   "outputs": [
    {
     "name": "stdout",
     "output_type": "stream",
     "text": [
      "hello ipython notebook!\n"
     ]
    }
   ],
   "source": [
    "print('hello ipython notebook!')"
   ]
  },
  {
   "cell_type": "markdown",
   "metadata": {},
   "source": [
    "## 2wd_work Numpy"
   ]
  },
  {
   "cell_type": "markdown",
   "metadata": {},
   "source": [
    "## 使用循环和向量化两种不同的方法来计算100以内质数之和"
   ]
  },
  {
   "cell_type": "code",
   "execution_count": 5,
   "metadata": {
    "collapsed": false
   },
   "outputs": [
    {
     "name": "stdout",
     "output_type": "stream",
     "text": [
      "[1, 2, 3, 5, 7, 11, 13, 17, 19, 23, 29, 31, 37, 41, 43, 47, 53, 59, 61, 67, 71, 73, 79, 83, 89, 97]\n",
      "1061\n"
     ]
    }
   ],
   "source": [
    "# 循环法\n",
    "range100 = range(2,101)\n",
    "prime_list =[1,2]\n",
    "for i in range100:\n",
    "    count =0\n",
    "    for j in range(2,i+1): #第二个循环\n",
    "        count +=1  #计数\n",
    "        if i%j  == 0:\n",
    "            break\n",
    "        if count == len(range(2,i+1))-1: #最后一个循环没有break，则是质数\n",
    "            prime_list.append(i)\n",
    "print (prime_list)\n",
    "sum =0\n",
    "for i in prime_list:\n",
    "    sum +=i\n",
    "print (sum)"
   ]
  },
  {
   "cell_type": "code",
   "execution_count": 8,
   "metadata": {
    "collapsed": false
   },
   "outputs": [
    {
     "data": {
      "text/plain": [
       "1061"
      ]
     },
     "execution_count": 8,
     "metadata": {},
     "output_type": "execute_result"
    }
   ],
   "source": [
    "#向量法\n",
    "import numpy as np\n",
    "a =np.arange(1,101)\n",
    "answer = (a.reshape(100,1)%a)\n",
    "# 查看那一行中只有两个0\n",
    "#x =answer[:,16]\n",
    "condlist = [answer>0]\n",
    "choicelist = [1]\n",
    "answer1 =np.dot(np.select(condlist,choicelist),np.ones(100))\n",
    "#使用 select 来替换\n",
    "# 大于等于 98 就是质数。\n",
    "condlist = [answer1 >=98, answer1 <98]\n",
    "choicelist = [1, 0]\n",
    "# np.select(condlist,choicelist) 获得质数矩阵\n",
    "np.dot(np.select(condlist,choicelist),np.arange(1,101))"
   ]
  },
  {
   "cell_type": "markdown",
   "metadata": {},
   "source": [
    "## 模拟一个醉汉在二维空间上的随机漫步"
   ]
  },
  {
   "cell_type": "code",
   "execution_count": 12,
   "metadata": {
    "collapsed": false
   },
   "outputs": [
    {
     "name": "stdout",
     "output_type": "stream",
     "text": [
      "[-0.69971932  0.71441785]\n",
      "[ 0.16724003  1.2127967 ]\n",
      "[-0.60918634  1.84300467]\n",
      "[-1.60761681  1.89900999]\n",
      "[-1.08014     2.74857942]\n",
      "[-1.28612934  1.77002518]\n",
      "[-2.27939438  1.65416078]\n",
      "[-2.4287854   2.64293897]\n",
      "[-1.65047422  3.27081772]\n",
      "[-2.29539907  2.50657172]\n",
      "[-1.64951956  3.27001108]\n",
      "[-0.76774799  2.7983344 ]\n",
      "[-1.72953566  3.07213079]\n",
      "[-2.22070927  2.20106908]\n",
      "[-2.82606366  2.99702515]\n",
      "[-1.99418538  2.44206701]\n",
      "[-2.87352925  1.96587968]\n",
      "[-2.35711843  1.1095387 ]\n",
      "[-3.05434937  1.82638528]\n",
      "[-2.46640659  1.01748276]\n",
      "[-1.70020259  0.37488535]\n",
      "[-0.78062803 -0.01803019]\n",
      "[-0.04535965  0.65974589]\n",
      "[-1.03655724  0.52735501]\n",
      "[-0.72980066  1.47914301]\n",
      "[-0.00623643  0.78888595]\n",
      "[-0.91988021  0.38237021]\n",
      "[-0.73505068  1.36514081]\n",
      "[-1.73113724  1.27675775]\n",
      "[-2.60971874  0.79916529]\n",
      "[-3.55470446  1.12627685]\n",
      "[-2.59229683  1.39788602]\n",
      "[-2.61536932  2.39761981]\n",
      "[-1.64268685  2.1654802 ]\n",
      "[-1.08438768  2.99511991]\n",
      "[-1.82908888  2.32772188]\n",
      "[-2.60951332  1.70247178]\n",
      "[-1.66835902  2.04044897]\n",
      "[-0.68088178  1.88268744]\n",
      "[ 0.31470131  1.78880289]\n",
      "[ 1.31151225  1.7090034 ]\n",
      "[ 2.05911953  2.37314445]\n",
      "[ 2.9833923   1.99141176]\n",
      "[ 2.06330252  1.59970422]\n",
      "[ 2.40137822  2.54082314]\n",
      "[ 2.53906114  3.5312995 ]\n",
      "[ 2.54423656  2.53131289]\n",
      "[ 3.28672631  1.86145546]\n",
      "[ 3.72203801  0.96117566]\n",
      "[ 4.44794062  1.64897316]\n",
      "[ 3.57839645  1.15511799]\n",
      "[ 2.59006469  1.30743459]\n",
      "[ 2.20111938  2.22869543]\n",
      "[ 1.87763522  3.17492902]\n",
      "[ 1.36906741  2.31390708]\n",
      "[ 1.97270816  3.11116353]\n",
      "[ 2.73252515  2.46102651]\n",
      "[ 3.58340908  2.98638022]\n",
      "[ 3.2153169   2.05659092]\n",
      "[ 2.44083383  2.68918557]\n",
      "[ 2.70370315  3.65401701]\n",
      "[ 3.36635361  4.40294583]\n",
      "[ 2.98262452  3.47950012]\n",
      "[ 3.97662841  3.58884481]\n",
      "[ 2.98152766  3.68771085]\n",
      "[ 2.96893658  4.68763157]\n",
      "[ 3.83799703  4.19292567]\n",
      "[ 2.83925931  4.24315488]\n",
      "[ 2.2981006  3.4022344]\n",
      "[ 2.5314193   2.42983408]\n",
      "[ 3.02224226  1.55857475]\n",
      "[ 4.01481164  1.68025477]\n",
      "[ 4.70613207  2.40280309]\n",
      "[ 5.36952293  1.65453003]\n",
      "[ 6.36479109  1.55736369]\n",
      "[ 5.85364487  0.69786992]\n",
      "[ 4.88791099  0.43833556]\n",
      "[ 4.90433001  1.43820076]\n",
      "[ 5.21847329  2.38757634]\n",
      "[ 5.16892036  3.38634784]\n",
      "[ 4.19391944  3.6085487 ]\n",
      "[ 3.25492588  3.26461399]\n",
      "[ 3.27980211  4.26430453]\n",
      "[ 3.04361239  5.23601149]\n",
      "[ 3.76354307  4.54196551]\n",
      "[ 2.78516272  4.74877919]\n",
      "[ 2.48404628  5.70236656]\n",
      "[ 2.33384265  6.69102165]\n",
      "[ 1.33410351  6.71386135]\n",
      "[ 0.64309075  5.99101879]\n",
      "[ 0.56087446  4.99440428]\n",
      "[ 0.13421304  4.08999286]\n",
      "[-0.71026134  3.55439691]\n",
      "[ 0.08879295  2.95313802]\n",
      "[-0.28806139  2.02686549]\n",
      "[ 0.28015632  2.84974375]\n",
      "[ 1.24641943  2.59218677]\n",
      "[ 1.04535243  1.61260928]\n",
      "[ 1.82571949  0.98728755]\n",
      "[ 0.82659599  0.94542794]\n"
     ]
    }
   ],
   "source": [
    "import math\n",
    "#每一步的步行矩阵,步长相同，设步长为1\n",
    "#在0-2*pi中产生一个随机角度\n",
    "random_radians =np.random.random_sample(1)*2*math.pi\n",
    "walk = np.array([0.0,0.0])\n",
    "for i in range(100):\n",
    "    walk += np.array([math.cos(random_radians),math.sin(random_radians)])\n",
    "    random_radians =np.random.random_sample(1)*2*math.pi\n",
    "    print (walk)"
   ]
  },
  {
   "cell_type": "markdown",
   "metadata": {},
   "source": [
    "## 使用梯形法计算一个二次函数的数值积分\n",
    "- 选择一个最简单的。"
   ]
  },
  {
   "cell_type": "code",
   "execution_count": 16,
   "metadata": {
    "collapsed": false
   },
   "outputs": [
    {
     "data": {
      "text/latex": [
       "$y=x^2$"
      ],
      "text/plain": [
       "<IPython.core.display.Latex object>"
      ]
     },
     "execution_count": 16,
     "metadata": {},
     "output_type": "execute_result"
    }
   ],
   "source": [
    "from IPython.display import Latex\n",
    "Latex(r\"$y=x^2$\")"
   ]
  },
  {
   "cell_type": "code",
   "execution_count": 17,
   "metadata": {
    "collapsed": false
   },
   "outputs": [
    {
     "data": {
      "text/plain": [
       "333332.8505043232"
      ]
     },
     "execution_count": 17,
     "metadata": {},
     "output_type": "execute_result"
    }
   ],
   "source": [
    "# y = x2\n",
    "# x从1 到 100 的积分值\n",
    "import numpy as np\n",
    "import math\n",
    "\n",
    "# 当x = 1 时，y = 1，当x = 100 时， y = 10000\n",
    "step = 0.00001 # 步长，尽可能小\n",
    "x_array = np.arange(1,100,step)\n",
    "y_array_f =x_array*x_array # 上线\n",
    "y_array_b =y_array_f+step # 下线\n",
    "# print y_array_b\n",
    "0.5*step*((y_array_f +y_array_b).sum()-(y_array_f[-1] +y_array_b[-1])) # 要减去最后一组数据"
   ]
  }
 ],
 "metadata": {
  "kernelspec": {
   "display_name": "Python 3",
   "language": "python",
   "name": "python3"
  },
  "language_info": {
   "codemirror_mode": {
    "name": "ipython",
    "version": 3
   },
   "file_extension": ".py",
   "mimetype": "text/x-python",
   "name": "python",
   "nbconvert_exporter": "python",
   "pygments_lexer": "ipython3",
   "version": "3.5.1"
  }
 },
 "nbformat": 4,
 "nbformat_minor": 0
}
